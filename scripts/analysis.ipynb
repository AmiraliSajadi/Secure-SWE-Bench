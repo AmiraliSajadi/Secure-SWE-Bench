{
 "cells": [
  {
   "cell_type": "code",
   "execution_count": 72,
   "metadata": {},
   "outputs": [],
   "source": [
    "import pandas as pd\n",
    "import os\n",
    "from collections import defaultdict"
   ]
  },
  {
   "cell_type": "markdown",
   "metadata": {},
   "source": [
    "## General Dataset Stats"
   ]
  },
  {
   "cell_type": "code",
   "execution_count": 73,
   "metadata": {},
   "outputs": [],
   "source": [
    "def parse_filename(filename):\n",
    "    \"\"\"\n",
    "    Parse the filename into its components.\n",
    "    Expected format: owner_repo_commit_folder_filepath\n",
    "    \"\"\"\n",
    "    parts = filename.split(\"_\", 3)  # Split into 4 parts: owner, repo, commit, rest\n",
    "    if len(parts) < 4:\n",
    "        return None  # Invalid format\n",
    "    owner, repo, commit, rest = parts[0], parts[1], parts[2], parts[3]\n",
    "    folder, *filepath = rest.split(\"_\", 1)\n",
    "    filepath = filepath[0] if filepath else \"\"\n",
    "    return owner, repo, commit, folder, filepath"
   ]
  },
  {
   "cell_type": "code",
   "execution_count": 74,
   "metadata": {},
   "outputs": [],
   "source": [
    "def analyze_folder(folder_path):\n",
    "    \"\"\"\n",
    "    Analyze the folder and return stats: projects, commits, and files.\n",
    "    \"\"\"\n",
    "    projects = set()\n",
    "    commits = set()\n",
    "    file_count = 0\n",
    "\n",
    "    for root, _, files in os.walk(folder_path):\n",
    "        for file in files:\n",
    "            file_count += 1\n",
    "            parsed = parse_filename(file)\n",
    "            if parsed:\n",
    "                owner, repo, commit, _, _ = parsed\n",
    "                projects.add(f\"{owner}/{repo}\")\n",
    "                commits.add(commit)\n",
    "    return {\n",
    "        \"projects\": len(projects),\n",
    "        \"commits\": len(commits),\n",
    "        \"files\": file_count,\n",
    "    }"
   ]
  },
  {
   "cell_type": "code",
   "execution_count": 75,
   "metadata": {},
   "outputs": [],
   "source": [
    "def compare_folders(folder1, folder2):\n",
    "    \"\"\"\n",
    "    Compare two folders and analyze stats.\n",
    "    \"\"\"\n",
    "    stats1 = analyze_folder(folder1)\n",
    "    stats2 = analyze_folder(folder2)\n",
    "\n",
    "    print(f\"{folder1} Analysis:\")\n",
    "    print(f\" - Projects: {stats1['projects']}\")\n",
    "    print(f\" - Commits: {stats1['commits']}\")\n",
    "    print(f\" - Files: {stats1['files']}\\n\")\n",
    "\n",
    "    print(f\"{folder2} Analysis:\")\n",
    "    print(f\" - Projects: {stats2['projects']}\")\n",
    "    print(f\" - Commits: {stats2['commits']}\")\n",
    "    print(f\" - Files: {stats2['files']}\")"
   ]
  },
  {
   "cell_type": "markdown",
   "metadata": {},
   "source": [
    "Summarize datasets"
   ]
  },
  {
   "cell_type": "code",
   "execution_count": 76,
   "metadata": {},
   "outputs": [
    {
     "name": "stdout",
     "output_type": "stream",
     "text": [
      "../data/run_all/original/ Analysis:\n",
      " - Projects: 34\n",
      " - Commits: 10522\n",
      " - Files: 32873\n",
      "\n",
      "../data/run_all/patched/ Analysis:\n",
      " - Projects: 34\n",
      " - Commits: 10590\n",
      " - Files: 35000\n"
     ]
    }
   ],
   "source": [
    "original = \"../data/run_all/original/\"\n",
    "patched = \"../data/run_all/patched/\"\n",
    "\n",
    "compare_folders(original, patched)"
   ]
  },
  {
   "cell_type": "markdown",
   "metadata": {},
   "source": [
    "## Vulnerabilities"
   ]
  },
  {
   "cell_type": "code",
   "execution_count": 77,
   "metadata": {},
   "outputs": [],
   "source": [
    "cq_original = pd.read_excel('../data/run_all/original_extended_py.xlsx', sheet_name='main')\n",
    "cq_patched = pd.read_excel('../data/run_all/patched_extended_py.xlsx', sheet_name='main')\n",
    "b_original = pd.read_csv(\"../data/run_all/bandit_original.csv\")\n",
    "b_patched = pd.read_csv(\"../data/run_all/bandit_patched.csv\")"
   ]
  },
  {
   "cell_type": "code",
   "execution_count": 78,
   "metadata": {},
   "outputs": [],
   "source": [
    "def summarize_data(df, name, file_col, commit_col):\n",
    "    \"\"\"Summarize the total vulnerabilities, unique commits, and unique files in a dataset.\"\"\"\n",
    "    num_vul = len(df)\n",
    "    num_commits = df[commit_col].nunique()\n",
    "    num_files = df[file_col].nunique()\n",
    "    print(f\"{name} Summary:\")\n",
    "    print(f\"  Total Vulnerabilities: {num_vul}\")\n",
    "    print(f\"  Unique Vulnerable Commits: {num_commits}\")\n",
    "    print(f\"  Unique Vulnerable Files: {num_files}\\n\")"
   ]
  },
  {
   "cell_type": "code",
   "execution_count": 79,
   "metadata": {},
   "outputs": [],
   "source": [
    "def clean_dataframe(df, file_col, commit_col, vuln_col):\n",
    "    \"\"\"Clean dataframe by stripping spaces, converting to lowercase, and normalizing file paths.\"\"\"\n",
    "    df[file_col] = df[file_col].str.strip().str.lower().str.replace(r\"^(original/|patched/)\", \"\", regex=True)\n",
    "    df[commit_col] = df[commit_col].str.strip().str.lower()\n",
    "    df[vuln_col] = df[vuln_col].str.strip().str.lower()\n",
    "    return df"
   ]
  },
  {
   "cell_type": "code",
   "execution_count": null,
   "metadata": {},
   "outputs": [],
   "source": [
    "def classify_vulnerabilities(original_df, patched_df, name, file_col, commit_col, vuln_col, line_col=None):\n",
    "    \"\"\"Classify vulnerabilities as fixed, introduced, or persisting between two datasets.\"\"\"\n",
    "    # Determine columns to include\n",
    "    columns = [file_col, commit_col, vuln_col]\n",
    "    if line_col:\n",
    "        columns.append(line_col)\n",
    "\n",
    "    # Extract relevant columns\n",
    "    original_vulns = original_df[columns]\n",
    "    patched_vulns = patched_df[columns]\n",
    "\n",
    "    original_set = set(map(tuple, original_vulns.values))\n",
    "    patched_set = set(map(tuple, patched_vulns.values))\n",
    "\n",
    "    # Classify vulnerabilities\n",
    "    fixed = original_set - patched_set\n",
    "    introduced = patched_set - original_set\n",
    "    persisting = original_set & patched_set\n",
    "\n",
    "    fixed_commits = {commit for _, commit, *_ in fixed}\n",
    "    introduced_commits = {commit for _, commit, *_ in introduced}\n",
    "    persisting_commits = {commit for _, commit, *_ in persisting}\n",
    "\n",
    "    fixed_files = {file for file, _, *_ in fixed}\n",
    "    introduced_files = {file for file, _, *_ in introduced}\n",
    "    persisting_files = {file for file, _, *_ in persisting}\n",
    "\n",
    "    print(f\"{name} Vulnerability Classification:\")\n",
    "    print(f\"  Fixed Vulnerabilities: {len(fixed)}\")\n",
    "    print(f\"    Attributed to {len(fixed_commits)} unique commits\")\n",
    "    print(f\"    In {len(fixed_files)} unique files\")\n",
    "    print(f\"  Introduced Vulnerabilities: {len(introduced)}\")\n",
    "    print(f\"    Attributed to {len(introduced_commits)} unique commits\")\n",
    "    print(f\"    In {len(introduced_files)} unique files\")\n",
    "    print(f\"  Persisting Vulnerabilities: {len(persisting)}\")\n",
    "    print(f\"    Attributed to {len(persisting_commits)} unique commits\")\n",
    "    print(f\"    In {len(persisting_files)} unique files\\n\")"
   ]
  },
  {
   "cell_type": "markdown",
   "metadata": {},
   "source": [
    "Summarize vulnerabilities"
   ]
  },
  {
   "cell_type": "code",
   "execution_count": 103,
   "metadata": {},
   "outputs": [
    {
     "name": "stdout",
     "output_type": "stream",
     "text": [
      "CodeQL Original Summary:\n",
      "  Total Vulnerabilities: 944\n",
      "  Unique Vulnerable Commits: 464\n",
      "  Unique Vulnerable Files: 157\n",
      "\n",
      "CodeQL Patched Summary:\n",
      "  Total Vulnerabilities: 989\n",
      "  Unique Vulnerable Commits: 479\n",
      "  Unique Vulnerable Files: 169\n",
      "\n",
      "Bandit Original Summary:\n",
      "  Total Vulnerabilities: 60276\n",
      "  Unique Vulnerable Commits: 5980\n",
      "  Unique Vulnerable Files: 2673\n",
      "\n",
      "Bandit Patched Summary:\n",
      "  Total Vulnerabilities: 61749\n",
      "  Unique Vulnerable Commits: 6055\n",
      "  Unique Vulnerable Files: 2882\n",
      "\n"
     ]
    }
   ],
   "source": [
    "summarize_data(cq_original, \"CodeQL Original\", file_col=\"file\", commit_col=\"commit_link\")\n",
    "summarize_data(cq_patched, \"CodeQL Patched\", file_col=\"file\", commit_col=\"commit_link\")\n",
    "summarize_data(b_original, \"Bandit Original\", file_col=\"file\", commit_col=\"commit_link\")\n",
    "summarize_data(b_patched, \"Bandit Patched\", file_col=\"file\", commit_col=\"commit_link\")"
   ]
  },
  {
   "cell_type": "markdown",
   "metadata": {},
   "source": [
    "Classify vulnerabilities"
   ]
  },
  {
   "cell_type": "code",
   "execution_count": 109,
   "metadata": {},
   "outputs": [
    {
     "name": "stdout",
     "output_type": "stream",
     "text": [
      "CodeQL Vulnerability Classification:\n",
      "  Fixed Vulnerabilities: 19\n",
      "    Attributed to 15 unique commits\n",
      "    In 18 unique files\n",
      "  Introduced Vulnerabilities: 49\n",
      "    Attributed to 34 unique commits\n",
      "    In 43 unique files\n",
      "  Persisting Vulnerabilities: 623\n",
      "    Attributed to 456 unique commits\n",
      "    In 150 unique files\n",
      "\n",
      "Bandit Vulnerability Classification:\n",
      "  Fixed Vulnerabilities: 27580\n",
      "    Attributed to 3989 unique commits\n",
      "    In 1962 unique files\n",
      "  Introduced Vulnerabilities: 29050\n",
      "    Attributed to 4095 unique commits\n",
      "    In 2210 unique files\n",
      "  Persisting Vulnerabilities: 32685\n",
      "    Attributed to 4585 unique commits\n",
      "    In 2034 unique files\n",
      "\n"
     ]
    }
   ],
   "source": [
    "classify_vulnerabilities(cq_original, cq_patched, \"CodeQL\", file_col=\"file\", commit_col=\"commit_link\", vuln_col=\"rule_id\", line_col=None)\n",
    "classify_vulnerabilities(b_original, b_patched, \"Bandit\", file_col=\"file\", commit_col=\"commit_link\", vuln_col=\"test_id\", line_col=\"line_number\")\n"
   ]
  },
  {
   "cell_type": "code",
   "execution_count": null,
   "metadata": {},
   "outputs": [],
   "source": []
  }
 ],
 "metadata": {
  "kernelspec": {
   "display_name": "Python 3",
   "language": "python",
   "name": "python3"
  },
  "language_info": {
   "codemirror_mode": {
    "name": "ipython",
    "version": 3
   },
   "file_extension": ".py",
   "mimetype": "text/x-python",
   "name": "python",
   "nbconvert_exporter": "python",
   "pygments_lexer": "ipython3",
   "version": "3.10.12"
  }
 },
 "nbformat": 4,
 "nbformat_minor": 2
}
